{
 "cells": [
  {
   "cell_type": "code",
   "execution_count": 11,
   "metadata": {},
   "outputs": [
    {
     "name": "stdout",
     "output_type": "stream",
     "text": [
      "/home/oussama\r\n"
     ]
    }
   ],
   "source": [
    "!pwd"
   ]
  },
  {
   "cell_type": "markdown",
   "metadata": {},
   "source": [
    "## Preprocessing "
   ]
  },
  {
   "cell_type": "code",
   "execution_count": 14,
   "metadata": {},
   "outputs": [],
   "source": [
    "# Importing libararies \n",
    "import json"
   ]
  },
  {
   "cell_type": "code",
   "execution_count": 15,
   "metadata": {},
   "outputs": [],
   "source": [
    "# Loading Data\n",
    "file = open('Natural-Questions-Competition-Google-ai/data/dev-v2.0.json').read()\n",
    "data = json.loads(file)"
   ]
  },
  {
   "cell_type": "code",
   "execution_count": 19,
   "metadata": {},
   "outputs": [
    {
     "data": {
      "text/plain": [
       "dict_keys(['version', 'data'])"
      ]
     },
     "execution_count": 19,
     "metadata": {},
     "output_type": "execute_result"
    }
   ],
   "source": [
    "data.keys()"
   ]
  },
  {
   "cell_type": "code",
   "execution_count": 48,
   "metadata": {},
   "outputs": [],
   "source": [
    "# extracts information\n",
    "def extract_informations(data):\n",
    "    \"\"\"\n",
    "    - Extracts context, question and answer from json file\n",
    "    - Add special tokens to map questions\n",
    "    \n",
    "    args:\n",
    "    \n",
    "    Input:\n",
    "    ------\n",
    "    data:json\n",
    "    \n",
    "    Output:\n",
    "    -------\n",
    "    context:list\n",
    "    question:list\n",
    "    answer:list\n",
    "    \"\"\"\n",
    "    context, question, answer = [], [], []\n",
    "    for normans in data['data']:    \n",
    "        for parag in normans['paragraphs']:\n",
    "            for i in range(len(parag['qas'])):\n",
    "                context.append(parag['context'])\n",
    "                question.append('sos ' + parag['qas'][i]['question'])\n",
    "                answer.append(parag['qas'][i]['answers'])\n",
    "    return context, question, answer"
   ]
  },
  {
   "cell_type": "code",
   "execution_count": 50,
   "metadata": {},
   "outputs": [],
   "source": [
    "context, question, answer = extract_informations(data)"
   ]
  },
  {
   "cell_type": "code",
   "execution_count": 51,
   "metadata": {},
   "outputs": [
    {
     "data": {
      "text/plain": [
       "(11873, 11873, 11873)"
      ]
     },
     "execution_count": 51,
     "metadata": {},
     "output_type": "execute_result"
    }
   ],
   "source": [
    "len(context), len(question), len(answer)"
   ]
  },
  {
   "cell_type": "code",
   "execution_count": 52,
   "metadata": {},
   "outputs": [
    {
     "data": {
      "text/plain": [
       "(['The Normans (Norman: Nourmands; French: Normands; Latin: Normanni) were the people who in the 10th and 11th centuries gave their name to Normandy, a region in France. They were descended from Norse (\"Norman\" comes from \"Norseman\") raiders and pirates from Denmark, Iceland and Norway who, under their leader Rollo, agreed to swear fealty to King Charles III of West Francia. Through generations of assimilation and mixing with the native Frankish and Roman-Gaulish populations, their descendants would gradually merge with the Carolingian-based cultures of West Francia. The distinct cultural and ethnic identity of the Normans emerged initially in the first half of the 10th century, and it continued to evolve over the succeeding centuries.',\n",
       "  'The Normans (Norman: Nourmands; French: Normands; Latin: Normanni) were the people who in the 10th and 11th centuries gave their name to Normandy, a region in France. They were descended from Norse (\"Norman\" comes from \"Norseman\") raiders and pirates from Denmark, Iceland and Norway who, under their leader Rollo, agreed to swear fealty to King Charles III of West Francia. Through generations of assimilation and mixing with the native Frankish and Roman-Gaulish populations, their descendants would gradually merge with the Carolingian-based cultures of West Francia. The distinct cultural and ethnic identity of the Normans emerged initially in the first half of the 10th century, and it continued to evolve over the succeeding centuries.',\n",
       "  'The Normans (Norman: Nourmands; French: Normands; Latin: Normanni) were the people who in the 10th and 11th centuries gave their name to Normandy, a region in France. They were descended from Norse (\"Norman\" comes from \"Norseman\") raiders and pirates from Denmark, Iceland and Norway who, under their leader Rollo, agreed to swear fealty to King Charles III of West Francia. Through generations of assimilation and mixing with the native Frankish and Roman-Gaulish populations, their descendants would gradually merge with the Carolingian-based cultures of West Francia. The distinct cultural and ethnic identity of the Normans emerged initially in the first half of the 10th century, and it continued to evolve over the succeeding centuries.',\n",
       "  'The Normans (Norman: Nourmands; French: Normands; Latin: Normanni) were the people who in the 10th and 11th centuries gave their name to Normandy, a region in France. They were descended from Norse (\"Norman\" comes from \"Norseman\") raiders and pirates from Denmark, Iceland and Norway who, under their leader Rollo, agreed to swear fealty to King Charles III of West Francia. Through generations of assimilation and mixing with the native Frankish and Roman-Gaulish populations, their descendants would gradually merge with the Carolingian-based cultures of West Francia. The distinct cultural and ethnic identity of the Normans emerged initially in the first half of the 10th century, and it continued to evolve over the succeeding centuries.',\n",
       "  'The Normans (Norman: Nourmands; French: Normands; Latin: Normanni) were the people who in the 10th and 11th centuries gave their name to Normandy, a region in France. They were descended from Norse (\"Norman\" comes from \"Norseman\") raiders and pirates from Denmark, Iceland and Norway who, under their leader Rollo, agreed to swear fealty to King Charles III of West Francia. Through generations of assimilation and mixing with the native Frankish and Roman-Gaulish populations, their descendants would gradually merge with the Carolingian-based cultures of West Francia. The distinct cultural and ethnic identity of the Normans emerged initially in the first half of the 10th century, and it continued to evolve over the succeeding centuries.'],\n",
       " ['sos In what country is Normandy located?',\n",
       "  'sos When were the Normans in Normandy?',\n",
       "  'sos From which countries did the Norse originate?',\n",
       "  'sos Who was the Norse leader?',\n",
       "  'sos What century did the Normans first gain their separate identity?'],\n",
       " [[{'text': 'France', 'answer_start': 159},\n",
       "   {'text': 'France', 'answer_start': 159},\n",
       "   {'text': 'France', 'answer_start': 159},\n",
       "   {'text': 'France', 'answer_start': 159}],\n",
       "  [{'text': '10th and 11th centuries', 'answer_start': 94},\n",
       "   {'text': 'in the 10th and 11th centuries', 'answer_start': 87},\n",
       "   {'text': '10th and 11th centuries', 'answer_start': 94},\n",
       "   {'text': '10th and 11th centuries', 'answer_start': 94}],\n",
       "  [{'text': 'Denmark, Iceland and Norway', 'answer_start': 256},\n",
       "   {'text': 'Denmark, Iceland and Norway', 'answer_start': 256},\n",
       "   {'text': 'Denmark, Iceland and Norway', 'answer_start': 256},\n",
       "   {'text': 'Denmark, Iceland and Norway', 'answer_start': 256}],\n",
       "  [{'text': 'Rollo', 'answer_start': 308},\n",
       "   {'text': 'Rollo', 'answer_start': 308},\n",
       "   {'text': 'Rollo', 'answer_start': 308},\n",
       "   {'text': 'Rollo', 'answer_start': 308}],\n",
       "  [{'text': '10th century', 'answer_start': 671},\n",
       "   {'text': 'the first half of the 10th century', 'answer_start': 649},\n",
       "   {'text': '10th', 'answer_start': 671},\n",
       "   {'text': '10th', 'answer_start': 671}]])"
      ]
     },
     "execution_count": 52,
     "metadata": {},
     "output_type": "execute_result"
    }
   ],
   "source": [
    "context[:5], question[:5], answer[:5]"
   ]
  },
  {
   "cell_type": "code",
   "execution_count": null,
   "metadata": {},
   "outputs": [],
   "source": []
  }
 ],
 "metadata": {
  "kernelspec": {
   "display_name": "Python 3",
   "language": "python",
   "name": "python3"
  },
  "language_info": {
   "codemirror_mode": {
    "name": "ipython",
    "version": 3
   },
   "file_extension": ".py",
   "mimetype": "text/x-python",
   "name": "python",
   "nbconvert_exporter": "python",
   "pygments_lexer": "ipython3",
   "version": "3.7.1"
  }
 },
 "nbformat": 4,
 "nbformat_minor": 2
}
